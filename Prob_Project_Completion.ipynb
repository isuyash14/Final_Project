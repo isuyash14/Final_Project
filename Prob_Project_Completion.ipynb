{
 "cells": [
  {
   "cell_type": "code",
   "execution_count": 32,
   "metadata": {
    "collapsed": true
   },
   "outputs": [],
   "source": [
    "import numpy as np  \n",
    "import pandas as pd  \n",
    "from pandas_datareader import data as wb  \n",
    "import matplotlib.pyplot as plt  \n",
    "from scipy.stats import norm\n",
    "%matplotlib inline"
   ]
  },
  {
   "cell_type": "code",
   "execution_count": 39,
   "metadata": {
    "collapsed": true
   },
   "outputs": [],
   "source": [
    "df_project = pd.read_csv(\"../data/project_success.csv\")\n"
   ]
  },
  {
   "cell_type": "code",
   "execution_count": 48,
   "metadata": {},
   "outputs": [
    {
     "data": {
      "text/plain": [
       "RangeIndex(start=0, stop=4, step=1)"
      ]
     },
     "execution_count": 48,
     "metadata": {},
     "output_type": "execute_result"
    }
   ],
   "source": []
  },
  {
   "cell_type": "code",
   "execution_count": 41,
   "metadata": {},
   "outputs": [
    {
     "data": {
      "text/html": [
       "<div>\n",
       "<style>\n",
       "    .dataframe thead tr:only-child th {\n",
       "        text-align: right;\n",
       "    }\n",
       "\n",
       "    .dataframe thead th {\n",
       "        text-align: left;\n",
       "    }\n",
       "\n",
       "    .dataframe tbody tr th {\n",
       "        vertical-align: top;\n",
       "    }\n",
       "</style>\n",
       "<table border=\"1\" class=\"dataframe\">\n",
       "  <thead>\n",
       "    <tr style=\"text-align: right;\">\n",
       "      <th></th>\n",
       "      <th>Tasks</th>\n",
       "      <th>Min Cost</th>\n",
       "      <th>Average Cost</th>\n",
       "      <th>Max. Cost</th>\n",
       "      <th>Min VC</th>\n",
       "      <th>Avg VC</th>\n",
       "      <th>Max VC</th>\n",
       "    </tr>\n",
       "  </thead>\n",
       "  <tbody>\n",
       "    <tr>\n",
       "      <th>0</th>\n",
       "      <td>Task 1</td>\n",
       "      <td>10</td>\n",
       "      <td>20</td>\n",
       "      <td>30</td>\n",
       "      <td>5</td>\n",
       "      <td>10</td>\n",
       "      <td>15</td>\n",
       "    </tr>\n",
       "    <tr>\n",
       "      <th>1</th>\n",
       "      <td>Task 2</td>\n",
       "      <td>5</td>\n",
       "      <td>10</td>\n",
       "      <td>15</td>\n",
       "      <td>2</td>\n",
       "      <td>5</td>\n",
       "      <td>8</td>\n",
       "    </tr>\n",
       "    <tr>\n",
       "      <th>2</th>\n",
       "      <td>Task 3</td>\n",
       "      <td>15</td>\n",
       "      <td>25</td>\n",
       "      <td>35</td>\n",
       "      <td>10</td>\n",
       "      <td>15</td>\n",
       "      <td>20</td>\n",
       "    </tr>\n",
       "    <tr>\n",
       "      <th>3</th>\n",
       "      <td>Total</td>\n",
       "      <td>30</td>\n",
       "      <td>55</td>\n",
       "      <td>80</td>\n",
       "      <td>17</td>\n",
       "      <td>30</td>\n",
       "      <td>43</td>\n",
       "    </tr>\n",
       "  </tbody>\n",
       "</table>\n",
       "</div>"
      ],
      "text/plain": [
       "    Tasks  Min Cost  Average Cost  Max. Cost  Min VC  Avg VC  Max VC\n",
       "0  Task 1        10            20         30       5      10      15\n",
       "1  Task 2         5            10         15       2       5       8\n",
       "2  Task 3        15            25         35      10      15      20\n",
       "3   Total        30            55         80      17      30      43"
      ]
     },
     "execution_count": 41,
     "metadata": {},
     "output_type": "execute_result"
    }
   ],
   "source": [
    "df_project.head()"
   ]
  },
  {
   "cell_type": "code",
   "execution_count": 103,
   "metadata": {
    "collapsed": true
   },
   "outputs": [],
   "source": [
    "sim_result = pd.DataFrame(data=None)"
   ]
  },
  {
   "cell_type": "code",
   "execution_count": 104,
   "metadata": {
    "collapsed": true
   },
   "outputs": [],
   "source": [
    "def get_random_int(minVal, maxVal):\n",
    "    \n",
    "    randVal = np.random.randint(minVal, maxVal)\n",
    "    return randVal"
   ]
  },
  {
   "cell_type": "code",
   "execution_count": 118,
   "metadata": {},
   "outputs": [],
   "source": [
    "min_list_FC = []\n",
    "max_list_FC = []\n",
    "avg_list_FC = []\n",
    "\n",
    "min_list_VC = []\n",
    "max_list_VC = []\n",
    "avg_list_VC = []\n",
    "sim_result = pd.DataFrame(data=None)\n",
    "\n",
    "\n",
    "for idx in df_project.index:\n",
    "    minFC = df_project.iloc[idx]['Min Cost']\n",
    "    maxFC = df_project.iloc[idx]['Max. Cost']\n",
    "    minVC = df_project.iloc[idx]['Min VC']\n",
    "    maxVC = df_project.iloc[idx]['Max VC']\n",
    "\n",
    "    \n",
    "    colname_FC = df_project.iloc[idx]['Tasks'] + ' Fixed Cost'\n",
    "    colname_VC = df_project.iloc[idx]['Tasks'] + ' Variable Cost'\n",
    "    list_FC = []\n",
    "    list_VC = []\n",
    "    \n",
    "    for i in range(100000):\n",
    "        randVal = get_random_int(minFC, maxFC)\n",
    "        list_FC.append(randVal)         \n",
    "        list_VC.append(get_random_int(minVC, maxVC))\n",
    "    \n",
    "    \n",
    "    sim_result[colname_FC] = list_FC\n",
    "    sim_result[colname_VC] = list_VC\n",
    "    \n",
    "    min_list_FC.append(min(list_FC))\n",
    "    min_list_VC.append(min(list_VC))\n",
    "    \n",
    "    max_list_FC.append(max(list_FC))\n",
    "    max_list_VC.append(max(list_VC))\n",
    "\n",
    "    avg_list_FC.append(np.mean(list_FC))\n",
    "    avg_list_VC.append(np.mean(list_VC))\n"
   ]
  },
  {
   "cell_type": "code",
   "execution_count": 119,
   "metadata": {},
   "outputs": [],
   "source": [
    "df_project['Min. Estimated FC'] =  min_list_FC\n",
    "df_project['Avg. Estimated FC'] =  avg_list_FC\n",
    "df_project['Max. Estimated FC'] =  max_list_FC\n",
    "\n",
    "df_project['Min. Estimated VC'] =  min_list_VC\n",
    "df_project['Avg. Estimated VC'] =  avg_list_VC\n",
    "df_project['Max. Estimated VC'] =  max_list_VC"
   ]
  },
  {
   "cell_type": "code",
   "execution_count": 120,
   "metadata": {},
   "outputs": [
    {
     "data": {
      "text/html": [
       "<div>\n",
       "<style>\n",
       "    .dataframe thead tr:only-child th {\n",
       "        text-align: right;\n",
       "    }\n",
       "\n",
       "    .dataframe thead th {\n",
       "        text-align: left;\n",
       "    }\n",
       "\n",
       "    .dataframe tbody tr th {\n",
       "        vertical-align: top;\n",
       "    }\n",
       "</style>\n",
       "<table border=\"1\" class=\"dataframe\">\n",
       "  <thead>\n",
       "    <tr style=\"text-align: right;\">\n",
       "      <th></th>\n",
       "      <th>Tasks</th>\n",
       "      <th>Min Cost</th>\n",
       "      <th>Average Cost</th>\n",
       "      <th>Max. Cost</th>\n",
       "      <th>Min VC</th>\n",
       "      <th>Avg VC</th>\n",
       "      <th>Max VC</th>\n",
       "      <th>Min. Estimated FC</th>\n",
       "      <th>Avg. Estimated FC</th>\n",
       "      <th>Max. Estimated FC</th>\n",
       "      <th>Min. Estimated VC</th>\n",
       "      <th>Avg. Estimated VC</th>\n",
       "      <th>Max. Estimated VC</th>\n",
       "    </tr>\n",
       "  </thead>\n",
       "  <tbody>\n",
       "    <tr>\n",
       "      <th>0</th>\n",
       "      <td>Task 1</td>\n",
       "      <td>10</td>\n",
       "      <td>20</td>\n",
       "      <td>30</td>\n",
       "      <td>5</td>\n",
       "      <td>10</td>\n",
       "      <td>15</td>\n",
       "      <td>10</td>\n",
       "      <td>19.51691</td>\n",
       "      <td>29</td>\n",
       "      <td>5</td>\n",
       "      <td>9.49631</td>\n",
       "      <td>14</td>\n",
       "    </tr>\n",
       "    <tr>\n",
       "      <th>1</th>\n",
       "      <td>Task 2</td>\n",
       "      <td>5</td>\n",
       "      <td>10</td>\n",
       "      <td>15</td>\n",
       "      <td>2</td>\n",
       "      <td>5</td>\n",
       "      <td>8</td>\n",
       "      <td>5</td>\n",
       "      <td>9.50253</td>\n",
       "      <td>14</td>\n",
       "      <td>2</td>\n",
       "      <td>4.50052</td>\n",
       "      <td>7</td>\n",
       "    </tr>\n",
       "    <tr>\n",
       "      <th>2</th>\n",
       "      <td>Task 3</td>\n",
       "      <td>15</td>\n",
       "      <td>25</td>\n",
       "      <td>35</td>\n",
       "      <td>10</td>\n",
       "      <td>15</td>\n",
       "      <td>20</td>\n",
       "      <td>15</td>\n",
       "      <td>24.54406</td>\n",
       "      <td>34</td>\n",
       "      <td>10</td>\n",
       "      <td>14.49911</td>\n",
       "      <td>19</td>\n",
       "    </tr>\n",
       "    <tr>\n",
       "      <th>3</th>\n",
       "      <td>Total</td>\n",
       "      <td>30</td>\n",
       "      <td>55</td>\n",
       "      <td>80</td>\n",
       "      <td>17</td>\n",
       "      <td>30</td>\n",
       "      <td>43</td>\n",
       "      <td>30</td>\n",
       "      <td>54.48043</td>\n",
       "      <td>79</td>\n",
       "      <td>17</td>\n",
       "      <td>29.51764</td>\n",
       "      <td>42</td>\n",
       "    </tr>\n",
       "  </tbody>\n",
       "</table>\n",
       "</div>"
      ],
      "text/plain": [
       "    Tasks  Min Cost  Average Cost  Max. Cost  Min VC  Avg VC  Max VC  \\\n",
       "0  Task 1        10            20         30       5      10      15   \n",
       "1  Task 2         5            10         15       2       5       8   \n",
       "2  Task 3        15            25         35      10      15      20   \n",
       "3   Total        30            55         80      17      30      43   \n",
       "\n",
       "   Min. Estimated FC  Avg. Estimated FC  Max. Estimated FC  Min. Estimated VC  \\\n",
       "0                 10           19.51691                 29                  5   \n",
       "1                  5            9.50253                 14                  2   \n",
       "2                 15           24.54406                 34                 10   \n",
       "3                 30           54.48043                 79                 17   \n",
       "\n",
       "   Avg. Estimated VC  Max. Estimated VC  \n",
       "0            9.49631                 14  \n",
       "1            4.50052                  7  \n",
       "2           14.49911                 19  \n",
       "3           29.51764                 42  "
      ]
     },
     "execution_count": 120,
     "metadata": {},
     "output_type": "execute_result"
    }
   ],
   "source": [
    "df_project"
   ]
  },
  {
   "cell_type": "code",
   "execution_count": 121,
   "metadata": {},
   "outputs": [
    {
     "data": {
      "text/html": [
       "<div>\n",
       "<style>\n",
       "    .dataframe thead tr:only-child th {\n",
       "        text-align: right;\n",
       "    }\n",
       "\n",
       "    .dataframe thead th {\n",
       "        text-align: left;\n",
       "    }\n",
       "\n",
       "    .dataframe tbody tr th {\n",
       "        vertical-align: top;\n",
       "    }\n",
       "</style>\n",
       "<table border=\"1\" class=\"dataframe\">\n",
       "  <thead>\n",
       "    <tr style=\"text-align: right;\">\n",
       "      <th></th>\n",
       "      <th>Task 1 Fixed Cost</th>\n",
       "      <th>Task 1 Variable Cost</th>\n",
       "      <th>Task 2 Fixed Cost</th>\n",
       "      <th>Task 2 Variable Cost</th>\n",
       "      <th>Task 3 Fixed Cost</th>\n",
       "      <th>Task 3 Variable Cost</th>\n",
       "      <th>Total Fixed Cost</th>\n",
       "      <th>Total Variable Cost</th>\n",
       "    </tr>\n",
       "  </thead>\n",
       "  <tbody>\n",
       "    <tr>\n",
       "      <th>0</th>\n",
       "      <td>10</td>\n",
       "      <td>14</td>\n",
       "      <td>12</td>\n",
       "      <td>3</td>\n",
       "      <td>26</td>\n",
       "      <td>19</td>\n",
       "      <td>46</td>\n",
       "      <td>18</td>\n",
       "    </tr>\n",
       "    <tr>\n",
       "      <th>1</th>\n",
       "      <td>24</td>\n",
       "      <td>10</td>\n",
       "      <td>9</td>\n",
       "      <td>4</td>\n",
       "      <td>22</td>\n",
       "      <td>11</td>\n",
       "      <td>54</td>\n",
       "      <td>22</td>\n",
       "    </tr>\n",
       "    <tr>\n",
       "      <th>2</th>\n",
       "      <td>11</td>\n",
       "      <td>11</td>\n",
       "      <td>8</td>\n",
       "      <td>4</td>\n",
       "      <td>25</td>\n",
       "      <td>19</td>\n",
       "      <td>62</td>\n",
       "      <td>32</td>\n",
       "    </tr>\n",
       "    <tr>\n",
       "      <th>3</th>\n",
       "      <td>23</td>\n",
       "      <td>5</td>\n",
       "      <td>8</td>\n",
       "      <td>3</td>\n",
       "      <td>16</td>\n",
       "      <td>14</td>\n",
       "      <td>59</td>\n",
       "      <td>39</td>\n",
       "    </tr>\n",
       "    <tr>\n",
       "      <th>4</th>\n",
       "      <td>16</td>\n",
       "      <td>8</td>\n",
       "      <td>11</td>\n",
       "      <td>6</td>\n",
       "      <td>33</td>\n",
       "      <td>11</td>\n",
       "      <td>30</td>\n",
       "      <td>41</td>\n",
       "    </tr>\n",
       "  </tbody>\n",
       "</table>\n",
       "</div>"
      ],
      "text/plain": [
       "   Task 1 Fixed Cost  Task 1 Variable Cost  Task 2 Fixed Cost  \\\n",
       "0                 10                    14                 12   \n",
       "1                 24                    10                  9   \n",
       "2                 11                    11                  8   \n",
       "3                 23                     5                  8   \n",
       "4                 16                     8                 11   \n",
       "\n",
       "   Task 2 Variable Cost  Task 3 Fixed Cost  Task 3 Variable Cost  \\\n",
       "0                     3                 26                    19   \n",
       "1                     4                 22                    11   \n",
       "2                     4                 25                    19   \n",
       "3                     3                 16                    14   \n",
       "4                     6                 33                    11   \n",
       "\n",
       "   Total Fixed Cost  Total Variable Cost  \n",
       "0                46                   18  \n",
       "1                54                   22  \n",
       "2                62                   32  \n",
       "3                59                   39  \n",
       "4                30                   41  "
      ]
     },
     "execution_count": 121,
     "metadata": {},
     "output_type": "execute_result"
    }
   ],
   "source": [
    "sim_result.head()"
   ]
  },
  {
   "cell_type": "code",
   "execution_count": 122,
   "metadata": {},
   "outputs": [
    {
     "data": {
      "text/plain": [
       "<matplotlib.axes._subplots.AxesSubplot at 0x1a198de208>"
      ]
     },
     "execution_count": 122,
     "metadata": {},
     "output_type": "execute_result"
    },
    {
     "data": {
      "image/png": "[encoded data removed]",
      "text/plain": [
       "<matplotlib.figure.Figure at 0x1a198eceb8>"
      ]
     },
     "metadata": {},
     "output_type": "display_data"
    }
   ],
   "source": [
    "sim_result[\"Task 1 Fixed Cost\"].plot()"
   ]
  },
  {
   "cell_type": "code",
   "execution_count": 123,
   "metadata": {},
   "outputs": [
    {
     "data": {
      "text/plain": [
       "<matplotlib.axes._subplots.AxesSubplot at 0x1a18361e48>"
      ]
     },
     "execution_count": 123,
     "metadata": {},
     "output_type": "execute_result"
    },
    {
     "data": {
      "image/png": "[encoded data removed]",
      "text/plain": [
       "<matplotlib.figure.Figure at 0x1a16745438>"
      ]
     },
     "metadata": {},
     "output_type": "display_data"
    }
   ],
   "source": [
    "sim_result[\"Task 1 Variable Cost\"].plot()"
   ]
  },
  {
   "cell_type": "code",
   "execution_count": 124,
   "metadata": {},
   "outputs": [
    {
     "data": {
      "text/plain": [
       "<matplotlib.axes._subplots.AxesSubplot at 0x1a17c70080>"
      ]
     },
     "execution_count": 124,
     "metadata": {},
     "output_type": "execute_result"
    },
    {
     "data": {
      "image/png": "[encoded data removed]",
      "text/plain": [
       "<matplotlib.figure.Figure at 0x1a198e9e48>"
      ]
     },
     "metadata": {},
     "output_type": "display_data"
    }
   ],
   "source": [
    "sim_result[\"Total Fixed Cost\"].plot()"
   ]
  },
  {
   "cell_type": "code",
   "execution_count": 130,
   "metadata": {},
   "outputs": [
    {
     "data": {
      "text/plain": [
       "(array([2072.,    0., 2030.,    0., 1972.,    0., 2019.,    0., 1950.,\n",
       "           0., 2048.,    0., 2017.,    0., 1933.,    0., 1973.,    0.,\n",
       "        2066.,    0., 1981.,    0., 1987.,    0., 2081.,    0., 2157.,\n",
       "           0., 2048.,    0., 1994.,    0., 1985.,    0., 2024.,    0.,\n",
       "        1932.,    0., 1997.,    0., 1977.,    0., 1999.,    0., 1939.,\n",
       "           0., 2014.,    0., 1959.,    0.,    0., 1930.,    0., 1972.,\n",
       "           0., 1977.,    0., 1982.,    0., 1936.,    0., 2034.,    0.,\n",
       "        2037.,    0., 1912.,    0., 2030.,    0., 1907.,    0., 1971.,\n",
       "           0., 1968.,    0., 2084.,    0., 1972.,    0., 1958.,    0.,\n",
       "        1999.,    0., 1995.,    0., 1985.,    0., 1990.,    0., 1993.,\n",
       "           0., 2044.,    0., 2076.,    0., 2066.,    0., 1999.,    0.,\n",
       "        2029.]),\n",
       " array([30.  , 30.49, 30.98, 31.47, 31.96, 32.45, 32.94, 33.43, 33.92,\n",
       "        34.41, 34.9 , 35.39, 35.88, 36.37, 36.86, 37.35, 37.84, 38.33,\n",
       "        38.82, 39.31, 39.8 , 40.29, 40.78, 41.27, 41.76, 42.25, 42.74,\n",
       "        43.23, 43.72, 44.21, 44.7 , 45.19, 45.68, 46.17, 46.66, 47.15,\n",
       "        47.64, 48.13, 48.62, 49.11, 49.6 , 50.09, 50.58, 51.07, 51.56,\n",
       "        52.05, 52.54, 53.03, 53.52, 54.01, 54.5 , 54.99, 55.48, 55.97,\n",
       "        56.46, 56.95, 57.44, 57.93, 58.42, 58.91, 59.4 , 59.89, 60.38,\n",
       "        60.87, 61.36, 61.85, 62.34, 62.83, 63.32, 63.81, 64.3 , 64.79,\n",
       "        65.28, 65.77, 66.26, 66.75, 67.24, 67.73, 68.22, 68.71, 69.2 ,\n",
       "        69.69, 70.18, 70.67, 71.16, 71.65, 72.14, 72.63, 73.12, 73.61,\n",
       "        74.1 , 74.59, 75.08, 75.57, 76.06, 76.55, 77.04, 77.53, 78.02,\n",
       "        78.51, 79.  ]),\n",
       " <a list of 100 Patch objects>)"
      ]
     },
     "execution_count": 130,
     "metadata": {},
     "output_type": "execute_result"
    },
    {
     "data": {
      "image/png": "[encoded data removed]",
      "text/plain": [
       "<matplotlib.figure.Figure at 0x1a17ba16a0>"
      ]
     },
     "metadata": {},
     "output_type": "display_data"
    }
   ],
   "source": [
    "plt.hist(sim_result[\"Total Fixed Cost\"], bins=100)"
   ]
  },
  {
   "cell_type": "code",
   "execution_count": null,
   "metadata": {
    "collapsed": true
   },
   "outputs": [],
   "source": []
  },
  {
   "cell_type": "code",
   "execution_count": null,
   "metadata": {
    "collapsed": true
   },
   "outputs": [],
   "source": []
  },
  {
   "cell_type": "code",
   "execution_count": null,
   "metadata": {
    "collapsed": true
   },
   "outputs": [],
   "source": []
  }
 ],
 "metadata": {
  "kernelspec": {
   "display_name": "Python 3",
   "language": "python",
   "name": "python3"
  },
  "language_info": {
   "codemirror_mode": {
    "name": "ipython",
    "version": 3
   },
   "file_extension": ".py",
   "mimetype": "text/x-python",
   "name": "python",
   "nbconvert_exporter": "python",
   "pygments_lexer": "ipython3",
   "version": "3.6.3"
  }
 },
 "nbformat": 4,
 "nbformat_minor": 2
}
